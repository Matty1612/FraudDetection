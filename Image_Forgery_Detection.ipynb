{
  "cells": [
    {
      "cell_type": "code",
      "execution_count": null,
      "metadata": {
        "colab": {
          "base_uri": "https://localhost:8080/"
        },
        "id": "NLvUdPuFN-0F",
        "outputId": "d0562b82-7b76-48da-f26f-a44030e04742"
      },
      "outputs": [
        {
          "output_type": "stream",
          "name": "stdout",
          "text": [
            "Mounted at /content/drive\n"
          ]
        }
      ],
      "source": [
        "# Import TensorFlow library for deep learning tasks\n",
        "import tensorflow as tf\n",
        "\n",
        "# Import the Sequential model to create a linear stack of layers\n",
        "from tensorflow.keras.models import Sequential\n",
        "\n",
        "# Import layers for building the neural network\n",
        "from tensorflow.keras.layers import Conv2D, MaxPooling2D, Flatten, Dense, Dropout, BatchNormalization\n",
        "\n",
        "# Import the Adam optimizer for training the model\n",
        "from tensorflow.keras.optimizers import Adam\n",
        "\n",
        "# Import learning rate scheduling for the optimizer\n",
        "from tensorflow.keras.optimizers.schedules import ExponentialDecay\n",
        "\n",
        "# Import EarlyStopping callback to stop training if the model stops improving\n",
        "from tensorflow.keras.callbacks import EarlyStopping\n",
        "\n",
        "# Import the VGG16 pre-trained model for transfer learning\n",
        "from tensorflow.keras.applications import VGG16\n",
        "\n",
        "# Import ImageDataGenerator for data augmentation during training\n",
        "from tensorflow.keras.preprocessing.image import ImageDataGenerator\n",
        "\n",
        "# Import train_test_split to split the dataset into training and testing sets\n",
        "from sklearn.model_selection import train_test_split\n",
        "\n",
        "# Import shuffle to randomize the order of elements in a list\n",
        "from sklearn.utils import shuffle\n",
        "\n",
        "# Import classification metrics for model evaluation\n",
        "from sklearn.metrics import classification_report, confusion_matrix\n",
        "\n",
        "# Import NumPy for numerical operations\n",
        "import numpy as np\n",
        "\n",
        "# Import the os module for interacting with the operating system\n",
        "import os\n",
        "\n",
        "# Import the Python Imaging Library (PIL) for image processing\n",
        "from PIL import Image, ImageChops, ImageEnhance\n",
        "\n",
        "# Import Matplotlib for data visualization\n",
        "import matplotlib.pyplot as plt\n",
        "\n",
        "# Import JSON for handling JSON data\n",
        "import json\n",
        "\n",
        "# Import tqdm for displaying progress bars\n",
        "from tqdm import tqdm\n",
        "\n",
        "# Import Seaborn for statistical data visualization\n",
        "import seaborn as sns\n",
        "\n",
        "# Import Google Colab's drive module to mount Google Drive\n",
        "from google.colab import drive\n",
        "\n",
        "# Mount Google Drive to access files\n",
        "drive.mount(\"/content/drive\")\n"
      ]
    },
    {
      "cell_type": "code",
      "execution_count": null,
      "metadata": {
        "id": "HU-0mE_C2u_0"
      },
      "outputs": [],
      "source": [
        "# Function to convert an image to its Error Level Analysis (ELA) representation\n",
        "def convert_to_ela_image(path, quality):\n",
        "    # Open the original image and convert it to the RGB color mode\n",
        "    original_image = Image.open(path).convert('RGB')\n",
        "\n",
        "    # Save a resaved version of the image with specified JPEG quality\n",
        "    resaved_file_name = 'resaved_image.jpg'\n",
        "    original_image.save(resaved_file_name, 'JPEG', quality=quality)\n",
        "\n",
        "    # Open the resaved image\n",
        "    resaved_image = Image.open(resaved_file_name)\n",
        "\n",
        "    # Compute the difference between the original and resaved images using ImageChops\n",
        "    ela_image = ImageChops.difference(original_image, resaved_image)\n",
        "\n",
        "    # Calculate the extrema (minimum and maximum pixel values) of the ela_image\n",
        "    extrema = ela_image.getextrema()\n",
        "\n",
        "    # Find the maximum difference in pixel values\n",
        "    max_difference = max([pix[1] for pix in extrema])\n",
        "\n",
        "    # If the maximum difference is zero, set it to 1 to avoid division by zero\n",
        "    if max_difference == 0:\n",
        "        max_difference = 1\n",
        "\n",
        "    # Scale the ela_image based on the maximum difference\n",
        "    scale = 255 / max_difference\n",
        "    ela_image = ImageEnhance.Brightness(ela_image).enhance(scale)\n",
        "\n",
        "    return ela_image\n",
        "\n",
        "# Function to prepare an image for model input\n",
        "def prepare_image(image_path):\n",
        "    # Define the target image size\n",
        "    image_size = (128, 128)\n",
        "\n",
        "    # Convert the image to its ELA representation with a specified quality\n",
        "    ela_image = convert_to_ela_image(image_path, 90)\n",
        "\n",
        "    # Resize the ELA image to the target size and convert it to a NumPy array\n",
        "    reshaped_image = np.array(ela_image.resize(image_size))\n",
        "\n",
        "    # Normalize pixel values to the range [0, 1]\n",
        "    return reshaped_image / 255.0\n"
      ]
    },
    {
      "cell_type": "code",
      "execution_count": null,
      "metadata": {
        "id": "oRU6xk_D3c8H"
      },
      "outputs": [],
      "source": [
        "# Function to build a Convolutional Neural Network (CNN) model\n",
        "def build_model(input_shape):\n",
        "    model = Sequential()\n",
        "\n",
        "    # Convolutional layer with 32 filters, a 5x5 kernel, and ReLU activation\n",
        "    model.add(Conv2D(32, (5, 5), activation='relu', input_shape=input_shape))\n",
        "\n",
        "    # MaxPooling layer to down-sample spatial dimensions by a factor of 2x2\n",
        "    model.add(MaxPooling2D(2, 2))\n",
        "\n",
        "    # Convolutional layer with 64 filters, a 3x3 kernel, and ReLU activation\n",
        "    model.add(Conv2D(64, (3, 3), activation='relu'))\n",
        "\n",
        "    # MaxPooling layer\n",
        "    model.add(MaxPooling2D(2, 2))\n",
        "\n",
        "    # Convolutional layer with 128 filters, a 3x3 kernel, and ReLU activation\n",
        "    model.add(Conv2D(128, (3, 3), activation='relu'))\n",
        "\n",
        "    # Additional Convolutional layer with 128 filters and 3x3 kernel, and ReLU activation\n",
        "    model.add(Conv2D(128, (3, 3), activation='relu'))\n",
        "\n",
        "    # MaxPooling layer\n",
        "    model.add(MaxPooling2D(2, 2))\n",
        "\n",
        "    # Convolutional layer with 256 filters, a 3x3 kernel, and ReLU activation\n",
        "    model.add(Conv2D(256, (3, 3), activation='relu'))\n",
        "\n",
        "    # Convolutional layer with 256 filters, a 3x3 kernel, ReLU activation, and 'SAME' padding\n",
        "    model.add(Conv2D(256, (3, 3), activation='relu', padding=\"SAME\"))\n",
        "\n",
        "    # Flatten layer to convert 2D feature maps to a 1D vector\n",
        "    model.add(Flatten())\n",
        "\n",
        "    # Fully connected layer with 128 neurons and ReLU activation\n",
        "    model.add(Dense(128, activation='relu'))\n",
        "\n",
        "    # Dropout layer to reduce overfitting by randomly setting a fraction of input units to 0\n",
        "    model.add(Dropout(0.5))\n",
        "\n",
        "    # Fully connected layer with 64 neurons and ReLU activation\n",
        "    model.add(Dense(64, activation='relu'))\n",
        "\n",
        "    # Another Dropout layer\n",
        "    model.add(Dropout(0.5))\n",
        "\n",
        "    # Output layer with 1 neuron and sigmoid activation for binary classification\n",
        "    model.add(Dense(1, activation='sigmoid'))\n",
        "\n",
        "    return model\n"
      ]
    },
    {
      "cell_type": "code",
      "execution_count": null,
      "metadata": {
        "id": "4lrqXFMl3dCr"
      },
      "outputs": [],
      "source": [
        "# Function to create a modified VGG16 model for binary classification\n",
        "def create_vgg16_model(input_shape):\n",
        "    # Load the VGG16 base model pre-trained on ImageNet data\n",
        "    base_model = VGG16(weights='imagenet', include_top=False, input_shape=input_shape)\n",
        "\n",
        "    # Set the base model to non-trainable (freeze its weights)\n",
        "    base_model.trainable = False\n",
        "\n",
        "    # Build a Sequential model consisting of the VGG16 base model, additional layers, and output layer\n",
        "    model = Sequential([\n",
        "        base_model,            # Include the VGG16 base model\n",
        "        Flatten(),             # Flatten layer to convert 2D feature maps to a 1D vector\n",
        "        Dense(128, activation='relu'),  # Fully connected layer with 128 neurons and ReLU activation\n",
        "        Dropout(0.5),          # Dropout layer to reduce overfitting by randomly setting a fraction of input units to 0\n",
        "        Dense(64, activation='relu'),   # Fully connected layer with 64 neurons and ReLU activation\n",
        "        Dropout(0.5),          # Another Dropout layer\n",
        "        Dense(1, activation='sigmoid')   # Output layer with 1 neuron and sigmoid activation for binary classification\n",
        "    ])\n",
        "\n",
        "    return model\n"
      ]
    },
    {
      "cell_type": "code",
      "execution_count": null,
      "metadata": {
        "id": "o2v6um_826Y_"
      },
      "outputs": [],
      "source": [
        "# Function to train a model with optional VGG16 base using provided data\n",
        "def train_model(X_train, Y_train, X_val, Y_val, epochs=10, batch_size=32, use_vgg16=False):\n",
        "    # Get the shape of the input data\n",
        "    input_shape = X_train[0].shape\n",
        "\n",
        "    # Create the model using either a custom build or a modified VGG16 base\n",
        "    if use_vgg16:\n",
        "        model = create_vgg16_model(input_shape)\n",
        "    else:\n",
        "        model = build_model(input_shape)\n",
        "\n",
        "    # Define a learning rate(for optimizing) scheduler using Exponential Decay\n",
        "    learning_rate = ExponentialDecay(initial_learning_rate=1e-4, decay_steps=10000, decay_rate=0.9, staircase=True)\n",
        "\n",
        "    # Define data augmentation for training data using ImageDataGenerator\n",
        "    train_datagen = ImageDataGenerator(\n",
        "        rotation_range=20,\n",
        "        width_shift_range=0.1,\n",
        "        height_shift_range=0.1,\n",
        "        zoom_range=0.2,\n",
        "        horizontal_flip=True,\n",
        "    )\n",
        "\n",
        "    # Create a generator for training data with the specified data augmentation\n",
        "    train_generator = train_datagen.flow(X_train, Y_train, batch_size=batch_size)\n",
        "\n",
        "    # Initialize the Adam optimizer with the defined learning rate scheduler\n",
        "    optimizer = Adam(learning_rate=learning_rate)\n",
        "\n",
        "    # Compile the model with binary crossentropy loss and accuracy as a metric\n",
        "    model.compile(optimizer=optimizer, loss='binary_crossentropy', metrics=['accuracy'])\n",
        "\n",
        "    # Define EarlyStopping to stop training if validation accuracy stops improving\n",
        "    early_stopping = EarlyStopping(monitor='val_accuracy', min_delta=0, patience=10, verbose=0, mode='auto')\n",
        "\n",
        "    # Compute class weights to handle class imbalance\n",
        "    class_weights = compute_class_weight('balanced', classes=np.unique(Y_train), y=Y_train)\n",
        "    class_weight_dict = dict(enumerate(class_weights))\n",
        "\n",
        "    # Train the model using the training generator and validate on the validation data\n",
        "    history = model.fit(train_generator, epochs=epochs, validation_data=(X_val, Y_val), callbacks=[early_stopping], class_weight=class_weight_dict)\n",
        "\n",
        "    # Return the trained model and training history\n",
        "    return model, history\n"
      ]
    },
    {
      "cell_type": "code",
      "execution_count": null,
      "metadata": {
        "id": "Sjn-GHgZ3ADQ"
      },
      "outputs": [],
      "source": [
        "# Function to evaluate a model's performance on test data\n",
        "def evaluate_model(model, X_test, Y_test):\n",
        "    # Predict probabilities for test data\n",
        "    Y_pred = model.predict(X_test)\n",
        "\n",
        "    # Convert predicted probabilities to binary classes using rounding\n",
        "    Y_pred_classes = np.round(Y_pred)\n",
        "\n",
        "    # True labels from the test set\n",
        "    Y_true = Y_test\n",
        "\n",
        "    # Compute confusion matrix and plot it\n",
        "    confusion_mtx = confusion_matrix(Y_true, Y_pred_classes)\n",
        "    plot_confusion_matrix(confusion_mtx)  # Assuming there's a function for plotting confusion matrix\n",
        "\n",
        "    # Display classification report\n",
        "    print(classification_report(Y_true, Y_pred_classes))\n",
        "\n",
        "    # Calculate and display accuracy\n",
        "    correct_test = np.sum(Y_pred_classes.flatten() == Y_true)\n",
        "    total_test = len(Y_true)\n",
        "    accuracy = correct_test / total_test\n",
        "    print(f'Total test images: {total_test}\\nCorrectly predicted images: {correct_test}\\nAccuracy: {accuracy:.2%}')\n"
      ]
    },
    {
      "cell_type": "code",
      "execution_count": null,
      "metadata": {
        "id": "imDttL603MIH"
      },
      "outputs": [],
      "source": [
        "# Function to plot training and validation history metrics (loss and accuracy)\n",
        "def plot_training_history(history):\n",
        "    # Create subplots with 1 row and 2 columns\n",
        "    fig, ax = plt.subplots(1, 2, figsize=(15, 5))\n",
        "\n",
        "    # Plot training and validation loss\n",
        "    ax[0].plot(history.history['loss'], label='Training loss')\n",
        "    ax[0].plot(history.history['val_loss'], label='Validation loss')\n",
        "    ax[0].set_xlabel('Epochs', fontsize=16)\n",
        "    ax[0].set_ylabel('Loss', fontsize=16)\n",
        "    ax[0].legend(loc='best', shadow=True)\n",
        "\n",
        "    # Plot training and validation accuracy\n",
        "    ax[1].plot(history.history['accuracy'], label='Training accuracy')\n",
        "    ax[1].plot(history.history['val_accuracy'], label='Validation accuracy')\n",
        "    ax[1].set_xlabel('Epochs', fontsize=16)\n",
        "    ax[1].set_ylabel('Accuracy', fontsize=16)\n",
        "    ax[1].legend(loc='best', shadow=True)\n",
        "\n",
        "    # Set the title for the entire plot\n",
        "    fig.suptitle('Metrics', fontsize=20)\n",
        "\n",
        "    # Display the plot\n",
        "    plt.show()\n"
      ]
    },
    {
      "cell_type": "code",
      "execution_count": null,
      "metadata": {
        "id": "QooebyZ33RyY"
      },
      "outputs": [],
      "source": [
        "# Function to plot a confusion matrix using Seaborn's heatmap\n",
        "def plot_confusion_matrix(cf_matrix):\n",
        "    # Format values for group counts and percentages in the confusion matrix\n",
        "    group_counts = [\"{0:0.0f}\".format(value) for value in cf_matrix.flatten()]\n",
        "    group_percentages = [\"{0:.2%}\".format(value) for value in cf_matrix.flatten()/np.sum(cf_matrix)]\n",
        "\n",
        "    # Define axis labels for the confusion matrix\n",
        "    axes_labels = ['Forged', 'Authentic']\n",
        "\n",
        "    # Combine group counts and percentages for display in the heatmap\n",
        "    labels = [f\"{v1}\\n{v2}\" for v1, v2 in zip(group_counts, group_percentages)]\n",
        "    labels = np.asarray(labels).reshape(2, 2)\n",
        "\n",
        "    # Use Seaborn's heatmap to visualize the confusion matrix\n",
        "    sns.heatmap(cf_matrix, annot=labels, fmt='', cmap=\"flare\", xticklabels=axes_labels, yticklabels=axes_labels)\n"
      ]
    },
    {
      "cell_type": "code",
      "execution_count": null,
      "metadata": {
        "colab": {
          "base_uri": "https://localhost:8080/"
        },
        "id": "f01vAVho3J_c",
        "outputId": "d9785255-bb9c-4c3f-96e1-d1d9547f8951"
      },
      "outputs": [
        {
          "output_type": "stream",
          "name": "stderr",
          "text": [
            "Processing Images for label 0: 100%|██████████| 500/500 [03:01<00:00,  2.75it/s]\n",
            "Processing Images for label 1: 100%|██████████| 500/500 [03:08<00:00,  2.65it/s]\n"
          ]
        }
      ],
      "source": [
        "# Main block to execute when the script is run\n",
        "if __name__ == \"__main__\":\n",
        "    # Specify paths to the dataset\n",
        "    paths = ['/content/drive/My Drive/CASIA/CASIA2/Au/', '/content/drive/My Drive/CASIA/CASIA2/Tp/']\n",
        "\n",
        "    # Load and preprocess a subset of data\n",
        "    subset_size = 500  # Adjust the subset size as needed\n",
        "\n",
        "    # Initialize empty lists to store preprocessed images and labels\n",
        "    X, Y = [], []\n",
        "\n",
        "    # Iterate over labels and their corresponding paths\n",
        "    for label, path in enumerate(paths):\n",
        "        # Iterate over filenames in the specified path, limited by the subset size\n",
        "        for filename in tqdm(os.listdir(path)[:subset_size], desc=f\"Processing Images for label {label}\"):\n",
        "            # Check if the filename has a valid image file extension\n",
        "            if filename.lower().endswith(('jpg', 'png', 'jpeg')):\n",
        "                try:\n",
        "                    # Create the full path to the image\n",
        "                    full_path = os.path.join(path, filename)\n",
        "\n",
        "                    # Prepare the image using the previously defined 'prepare_image' function\n",
        "                    X.append(prepare_image(full_path))\n",
        "\n",
        "                    # Append the label to the Y list\n",
        "                    Y.append(label)\n",
        "                except Exception as e:\n",
        "                    print(f\"Error processing {filename}: {e}\")\n",
        "\n",
        "    # Shuffle the X and Y lists for randomness\n",
        "    X, Y = shuffle(X, Y, random_state=42)\n",
        "\n",
        "    # Save the processed data as NumPy arrays\n",
        "    np.save('/content/drive/My Drive/CASIA/proposed_fidac_500_x.npy', X, allow_pickle=True)\n",
        "    np.save('/content/drive/My Drive/CASIA/proposed_fidac_500_y.npy', Y, allow_pickle=True)\n"
      ]
    },
    {
      "cell_type": "code",
      "execution_count": null,
      "metadata": {
        "colab": {
          "base_uri": "https://localhost:8080/"
        },
        "id": "Xl7dunBP4gY_",
        "outputId": "2eccc904-f432-49d6-fdb5-f2869afa35a5"
      },
      "outputs": [
        {
          "output_type": "stream",
          "name": "stdout",
          "text": [
            "Epoch 1/5\n",
            "15/15 [==============================] - 44s 3s/step - loss: 0.6888 - accuracy: 0.8000 - val_loss: 0.6217 - val_accuracy: 0.8000\n",
            "Epoch 2/5\n",
            "15/15 [==============================] - 41s 3s/step - loss: 0.6816 - accuracy: 0.8174 - val_loss: 0.5728 - val_accuracy: 0.8000\n",
            "Epoch 3/5\n",
            "15/15 [==============================] - 44s 3s/step - loss: 0.6373 - accuracy: 0.8261 - val_loss: 0.4712 - val_accuracy: 0.8000\n",
            "Epoch 4/5\n",
            "15/15 [==============================] - 43s 3s/step - loss: 0.5527 - accuracy: 0.8413 - val_loss: 0.3538 - val_accuracy: 0.8174\n",
            "Epoch 5/5\n",
            "15/15 [==============================] - 44s 3s/step - loss: 0.4949 - accuracy: 0.8826 - val_loss: 0.2864 - val_accuracy: 0.8261\n"
          ]
        }
      ],
      "source": [
        "from sklearn.utils.class_weight import compute_class_weight\n",
        "\n",
        "# Load processed data\n",
        "X = np.load('/content/drive/My Drive/CASIA/proposed_fidac_500_x.npy', allow_pickle=True)\n",
        "Y = np.load('/content/drive/My Drive/CASIA/proposed_fidac_500_y.npy', allow_pickle=True)\n",
        "\n",
        "# Train/test split--- splitting dataset\n",
        "X_train, X_test, Y_train, Y_test = train_test_split(X, Y, test_size=0.05, random_state=42)\n",
        "X_train, X_val, Y_train, Y_val = train_test_split(X_train, Y_train, test_size=0.2, random_state=42)\n",
        "\n",
        "# Train the model\n",
        "trained_model, training_history = train_model(X_train, Y_train, X_val, Y_val, epochs=5)\n",
        "# Save the trained model\n",
        "trained_model.save('/content/drive/My Drive/CASIA/ela_casia.h5')\n",
        "\n",
        "# Save the training history\n",
        "with open('/content/drive/My Drive/CASIA/model_history.json', 'w') as f:\n",
        "    json.dump(training_history.history, f)"
      ]
    },
    {
      "cell_type": "code",
      "execution_count": null,
      "metadata": {
        "id": "MVXKXFOr4T_o",
        "colab": {
          "base_uri": "https://localhost:8080/",
          "height": 484
        },
        "outputId": "1d36efd5-b5d9-49e5-bb9d-9dea432fb50d"
      },
      "outputs": [
        {
          "output_type": "display_data",
          "data": {
            "text/plain": [
              "<Figure size 1500x500 with 2 Axes>"
            ],
            "image/png": "[encoded data removed]"
          },
          "metadata": {}
        }
      ],
      "source": [
        "# Plot training history\n",
        "plot_training_history(training_history)"
      ]
    },
    {
      "cell_type": "code",
      "execution_count": null,
      "metadata": {
        "id": "Uc3WjaWz4W90",
        "colab": {
          "base_uri": "https://localhost:8080/",
          "height": 656
        },
        "outputId": "8f5e2b63-78a8-40f3-e12b-bf92580f678f"
      },
      "outputs": [
        {
          "output_type": "stream",
          "name": "stdout",
          "text": [
            "1/1 [==============================] - 1s 559ms/step\n",
            "              precision    recall  f1-score   support\n",
            "\n",
            "           0       0.86      0.96      0.91        25\n",
            "           1       0.67      0.33      0.44         6\n",
            "\n",
            "    accuracy                           0.84        31\n",
            "   macro avg       0.76      0.65      0.68        31\n",
            "weighted avg       0.82      0.84      0.82        31\n",
            "\n",
            "Total test images: 31\n",
            "Correctly predicted images: 26\n",
            "Accuracy: 83.87%\n"
          ]
        },
        {
          "output_type": "display_data",
          "data": {
            "text/plain": [
              "<Figure size 640x480 with 2 Axes>"
            ],
            "image/png": "[encoded data removed]"
          },
          "metadata": {}
        }
      ],
      "source": [
        "# Evaluate the model on the test set\n",
        "evaluate_model(trained_model, X_test, Y_test)\n"
      ]
    },
    {
      "cell_type": "code",
      "execution_count": null,
      "metadata": {
        "id": "jOC_E8sRBiQY",
        "colab": {
          "base_uri": "https://localhost:8080/"
        },
        "outputId": "4bd832b0-0055-4112-aeaf-0563faf2f43f"
      },
      "outputs": [
        {
          "output_type": "stream",
          "name": "stdout",
          "text": [
            "1/1 [==============================] - 0s 149ms/step\n",
            "The image is predicted as FORGED.\n"
          ]
        }
      ],
      "source": [
        "# Import necessary libraries\n",
        "from tensorflow.keras.models import load_model\n",
        "from PIL import Image\n",
        "import numpy as np\n",
        "\n",
        "# Load the trained model\n",
        "model_path = '/content/drive/My Drive/CASIA/ela_casia.h5'\n",
        "loaded_model = load_model(model_path)\n",
        "\n",
        "# Function to prepare an image for prediction\n",
        "def prepare_image_for_prediction(image_path):\n",
        "    # Define the target image size\n",
        "    image_size = (128, 128)\n",
        "\n",
        "    # Convert the image to its ELA representation with a specified quality\n",
        "    ela_image = convert_to_ela_image(image_path, 90)\n",
        "\n",
        "    # Resize the ELA image to the target size and convert it to a NumPy array\n",
        "    reshaped_image = np.array(ela_image.resize(image_size))\n",
        "\n",
        "    # Expand dimensions to match the expected input shape for prediction\n",
        "    return np.expand_dims(reshaped_image / 255.0, axis=0)\n",
        "\n",
        "# Example usage\n",
        "new_image_path = '/content/drive/My Drive/CASIA/fdemo.jpg'\n",
        "new_image = prepare_image_for_prediction(new_image_path)\n",
        "\n",
        "# Make a prediction using the loaded model\n",
        "prediction = loaded_model.predict(new_image)\n",
        "\n",
        "# Interpret the prediction and print the result\n",
        "if prediction[0][0] > 0.5:\n",
        "    print(\"The image is predicted as AUTHENTIC.\")\n",
        "else:\n",
        "    print(\"The image is predicted as FORGED.\")\n"
      ]
    },
    {
      "cell_type": "code",
      "execution_count": null,
      "metadata": {
        "id": "Jo7zNC7ptxOX",
        "colab": {
          "base_uri": "https://localhost:8080/"
        },
        "outputId": "49e56d90-7665-4da6-814c-8f20a13eeb20"
      },
      "outputs": [
        {
          "output_type": "stream",
          "name": "stderr",
          "text": [
            "WARNING:tensorflow:5 out of the last 5 calls to <function Model.make_predict_function.<locals>.predict_function at 0x7df8d74465f0> triggered tf.function retracing. Tracing is expensive and the excessive number of tracings could be due to (1) creating @tf.function repeatedly in a loop, (2) passing tensors with different shapes, (3) passing Python objects instead of tensors. For (1), please define your @tf.function outside of the loop. For (2), @tf.function has reduce_retracing=True option that can avoid unnecessary retracing. For (3), please refer to https://www.tensorflow.org/guide/function#controlling_retracing and https://www.tensorflow.org/api_docs/python/tf/function for  more details.\n"
          ]
        },
        {
          "output_type": "stream",
          "name": "stdout",
          "text": [
            "1/1 [==============================] - 0s 254ms/step\n",
            "The image is predicted as AUTHENTIC.\n"
          ]
        }
      ],
      "source": [
        "# Load necessary libraries\n",
        "from tensorflow.keras.models import load_model\n",
        "from PIL import Image\n",
        "import numpy as np\n",
        "\n",
        "# Load the trained model\n",
        "model_path = '/content/drive/My Drive/CASIA/ela_casia.h5'\n",
        "loaded_model = load_model(model_path)\n",
        "\n",
        "# Function to prepare an image for prediction\n",
        "def prepare_image_for_prediction(image_path):\n",
        "    # Define the target image size\n",
        "    image_size = (128, 128)\n",
        "\n",
        "    # Convert the image to its ELA representation with a specified quality\n",
        "    ela_image = convert_to_ela_image(image_path, 90)\n",
        "\n",
        "    # Resize the ELA image to the target size and convert it to a NumPy array\n",
        "    reshaped_image = np.array(ela_image.resize(image_size))\n",
        "\n",
        "    # Expand dimensions to match the expected input shape for prediction\n",
        "    return np.expand_dims(reshaped_image / 255.0, axis=0)\n",
        "\n",
        "# Example usage\n",
        "new_image_path = '/content/drive/My Drive/CASIA/demo.jpg'\n",
        "new_image = prepare_image_for_prediction(new_image_path)\n",
        "\n",
        "# Make a prediction using the loaded model\n",
        "prediction = loaded_model.predict(new_image)\n",
        "\n",
        "# Interpret the prediction and print the result\n",
        "if prediction[0][0] > 0.5:\n",
        "    print(\"The image is predicted as AUTHENTIC.\")\n",
        "else:\n",
        "    print(\"The image is predicted as FORGED.\")\n"
      ]
    }
  ],
  "metadata": {
    "accelerator": "TPU",
    "colab": {
      "provenance": []
    },
    "kernelspec": {
      "display_name": "Python 3",
      "name": "python3"
    },
    "language_info": {
      "name": "python"
    }
  },
  "nbformat": 4,
  "nbformat_minor": 0
}